{
 "cells": [
  {
   "cell_type": "markdown",
   "metadata": {},
   "source": [
    "# Ejercicio 3\n",
    "\n",
    "Dado el siguiente texto guardado en la varible <code>jupyter_info</code>, solicite por teclado una\n",
    "letra e imprima las palabras que contengan dicha letra. En caso que no se haya\n",
    "ingresado un letra, indique el error. Ver: módulo string"
   ]
  },
  {
   "cell_type": "code",
   "execution_count": 1,
   "metadata": {},
   "outputs": [],
   "source": [
    "jupyter_info = \"\"\" JupyterLab is a web-based interactive development\n",
    "environment for Jupyter notebooks, code, and data. JupyterLab is\n",
    "flexible: configure and arrange the user interface to support a wide\n",
    "range of workflows in data science, scientific computing, and machine\n",
    "learning. JupyterLab is extensible and modular: write plugins that add\n",
    "new components and integrate with existing ones. \"\"\"\n"
   ]
  },
  {
   "cell_type": "markdown",
   "metadata": {},
   "source": [
    "Se solicita que se ingrese una letra y verificamos que se haya ingresado solo un caracter y que este sea una letra:"
   ]
  },
  {
   "cell_type": "code",
   "execution_count": 2,
   "metadata": {},
   "outputs": [],
   "source": [
    "letter = input('Ingrese una letra: ')\n",
    "while ((not letter.isalpha()) or (len(letter) > 1)):\n",
    "    if not letter.isalpha():\n",
    "        letter = input('El caracter ingresado no es una letra. Por favor, ingrese una letra: ')\n",
    "        continue\n",
    "    if len(letter) > 1: \n",
    "        letter = input('Por favor, ingrese solo una letra: ')\n"
   ]
  },
  {
   "cell_type": "markdown",
   "metadata": {},
   "source": [
    "Limpiamos el texto de caracteres especiales, separamos las palabras y pasamos todo a minuscula:"
   ]
  },
  {
   "cell_type": "code",
   "execution_count": 3,
   "metadata": {},
   "outputs": [
    {
     "name": "stdout",
     "output_type": "stream",
     "text": [
      "jupyterlab\n",
      "webbased\n",
      "interactive\n",
      "development\n",
      "environment\n",
      "jupyter\n",
      "notebooks\n",
      "code\n",
      "jupyterlab\n",
      "flexible\n",
      "configure\n",
      "arrange\n",
      "the\n",
      "user\n",
      "interface\n",
      "wide\n",
      "range\n",
      "science\n",
      "scientific\n",
      "machine\n",
      "learning\n",
      "jupyterlab\n",
      "extensible\n",
      "write\n",
      "new\n",
      "components\n",
      "integrate\n",
      "existing\n",
      "ones\n"
     ]
    }
   ],
   "source": [
    "import funciones\n",
    "\n",
    "clean_text = funciones.clean_text(jupyter_info)\n",
    "words = [word.lower() for word in clean_text.split()]\n",
    "\n",
    "for word in words:\n",
    "    if letter in word:\n",
    "        print(word)"
   ]
  }
 ],
 "metadata": {
  "kernelspec": {
   "display_name": "venv",
   "language": "python",
   "name": "python3"
  },
  "language_info": {
   "codemirror_mode": {
    "name": "ipython",
    "version": 3
   },
   "file_extension": ".py",
   "mimetype": "text/x-python",
   "name": "python",
   "nbconvert_exporter": "python",
   "pygments_lexer": "ipython3",
   "version": "3.11.7"
  }
 },
 "nbformat": 4,
 "nbformat_minor": 2
}
