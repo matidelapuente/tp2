{
 "cells": [
  {
   "cell_type": "markdown",
   "metadata": {},
   "source": [
    "# Ejercicio 7\n",
    "Dada una frase contar mayúsculas, minúsculas, caracteres no letras y la cantidad de\n",
    "palabras sin distinguir entre mayúsculas y minúsculas."
   ]
  },
  {
   "cell_type": "code",
   "execution_count": 2,
   "metadata": {},
   "outputs": [],
   "source": [
    "text = \"La brecha salarial alcanzó el 27,7%: las mujeres ocupadas debieron trabajar 8 días y 10 horas más que los varones ocupados para ganar lo mismo que ellos en un mes.\""
   ]
  },
  {
   "cell_type": "code",
   "execution_count": 3,
   "metadata": {},
   "outputs": [
    {
     "name": "stdout",
     "output_type": "stream",
     "text": [
      "La cantida de palabras es 30\n"
     ]
    }
   ],
   "source": [
    "cant_palabras = len(text.split())\n",
    "print(f'La cantida de palabras es {cant_palabras}')"
   ]
  },
  {
   "cell_type": "code",
   "execution_count": 5,
   "metadata": {},
   "outputs": [
    {
     "name": "stdout",
     "output_type": "stream",
     "text": [
      "La cantidad de mayusculas es 1\n",
      "La cantidad de minusculas es 120\n",
      "La cantidad de caracteres no letras es 13\n"
     ]
    }
   ],
   "source": [
    "mayusculas = 0\n",
    "minusculas = 0\n",
    "no_letras = 0\n",
    "for letter in text:\n",
    "    if letter != ' ':\n",
    "        match letter:\n",
    "            case n if (n >= 'A' and n <='Z'):\n",
    "                mayusculas += 1\n",
    "            case n if (n >= 'a' and n <='z'):\n",
    "                minusculas += 1\n",
    "            case _:\n",
    "                no_letras += 1\n",
    "\n",
    "print(f'La cantidad de mayusculas es {mayusculas}')\n",
    "print(f'La cantidad de minusculas es {minusculas}') \n",
    "print(f'La cantidad de caracteres no letras es {no_letras}') "
   ]
  }
 ],
 "metadata": {
  "kernelspec": {
   "display_name": "venv",
   "language": "python",
   "name": "python3"
  },
  "language_info": {
   "codemirror_mode": {
    "name": "ipython",
    "version": 3
   },
   "file_extension": ".py",
   "mimetype": "text/x-python",
   "name": "python",
   "nbconvert_exporter": "python",
   "pygments_lexer": "ipython3",
   "version": "3.11.7"
  }
 },
 "nbformat": 4,
 "nbformat_minor": 2
}
