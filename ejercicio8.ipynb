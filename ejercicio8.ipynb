{
 "cells": [
  {
   "cell_type": "markdown",
   "metadata": {},
   "source": [
    "# Ejercicio 8\n",
    "\n",
    "Escriba un programa que solicite que se ingrese una palabra o frase y permita\n",
    "identificar si la misma es un Heterograma (tenga en cuenta que el contenido del enlace\n",
    "es una traducción del inglés por lo cual las palabras que nombra no son heterogramas\n",
    "en español). Un Heterograma es una palabra o frase que no tiene ninguna letra\n",
    "repetida entre sus caracteres.  \n",
    "**Tener en cuenta:**\n",
    " - Lo que no se puede repetir en la frase son sólo aquellos caracteres que sean\n",
    "letras.  \n",
    " - No se distingue entre mayúsculas y minúsculas, es decir si en la frase o palabra\n",
    "tenemos la letra \"T\" y la letra \"t\" la misma NO será un Hererograma.  \n",
    " - Para simplificar el ejercicio vamos a tomar como que las letras con tilde y sin tilde\n",
    "son distintas. Ya que Python las diferencia:"
   ]
  },
  {
   "cell_type": "code",
   "execution_count": 1,
   "metadata": {},
   "outputs": [
    {
     "name": "stdout",
     "output_type": "stream",
     "text": [
      "Es un heterograma\n"
     ]
    }
   ],
   "source": [
    "from funciones import isHeterogram\n",
    "\n",
    "word_phrase = input('Ingrese una palabra o frase: ')\n",
    "\n",
    "if isHeterogram(word_phrase):\n",
    "    print('Es un heterograma')\n",
    "else:\n",
    "    print('No es un heterograma')"
   ]
  }
 ],
 "metadata": {
  "kernelspec": {
   "display_name": "venv",
   "language": "python",
   "name": "python3"
  },
  "language_info": {
   "codemirror_mode": {
    "name": "ipython",
    "version": 3
   },
   "file_extension": ".py",
   "mimetype": "text/x-python",
   "name": "python",
   "nbconvert_exporter": "python",
   "pygments_lexer": "ipython3",
   "version": "3.11.7"
  }
 },
 "nbformat": 4,
 "nbformat_minor": 2
}
