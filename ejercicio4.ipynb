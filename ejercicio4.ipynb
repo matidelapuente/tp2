{
 "cells": [
  {
   "cell_type": "markdown",
   "metadata": {},
   "source": [
    "# Ejercicio 4\n",
    "\n",
    "Dado el siguiente código que informa si la letra a se encuentra en una palabra\n",
    "ingresada por teclado:  \n",
    "\n",
    "Código:"
   ]
  },
  {
   "cell_type": "code",
   "execution_count": 2,
   "metadata": {},
   "outputs": [
    {
     "name": "stdout",
     "output_type": "stream",
     "text": [
      "No hay letras a. \n"
     ]
    }
   ],
   "source": [
    "word = input(\"Ingresá una palabra: \")\n",
    "if \"a\" in word:\n",
    "    print(\"Hay al menos una letra a.\")\n",
    "else:\n",
    "    print(\"No hay letras a. \")"
   ]
  },
  {
   "cell_type": "markdown",
   "metadata": {},
   "source": [
    "Si ahora queremos saber si contiene la letra a y también la letra n, ¿cómo lo\n",
    "modificamos?"
   ]
  },
  {
   "cell_type": "code",
   "execution_count": 5,
   "metadata": {},
   "outputs": [
    {
     "name": "stdout",
     "output_type": "stream",
     "text": [
      "Hay al menos una letra a y una letra n.\n"
     ]
    }
   ],
   "source": [
    "# Codigo modificado\n",
    "\n",
    "word = input(\"Ingresá una palabra: \")\n",
    "if ((\"a\" in word) and (\"n\") in word):\n",
    "    print(\"Hay al menos una letra a y una letra n.\")\n",
    "else:\n",
    "    print(\"No tiene una a y una n. \")"
   ]
  }
 ],
 "metadata": {
  "kernelspec": {
   "display_name": "venv",
   "language": "python",
   "name": "python3"
  },
  "language_info": {
   "codemirror_mode": {
    "name": "ipython",
    "version": 3
   },
   "file_extension": ".py",
   "mimetype": "text/x-python",
   "name": "python",
   "nbconvert_exporter": "python",
   "pygments_lexer": "ipython3",
   "version": "3.11.7"
  }
 },
 "nbformat": 4,
 "nbformat_minor": 2
}
