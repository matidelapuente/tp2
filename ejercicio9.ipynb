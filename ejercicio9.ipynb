{
 "cells": [
  {
   "cell_type": "markdown",
   "metadata": {},
   "source": [
    "# Ejercicio 9\n",
    "Escriba un programa que solicite por teclado una palabra y calcule el valor de la misma\n",
    "dada la siguiente tabla de valores del juego Scrabble:  \n",
    "| **Letra**                       | valor | \n",
    "|:--------:                       |:-----:|\n",
    "|  A, E, I, O, U, L, N, R, S, T   |    1  |\n",
    "|  D,G                            |   2   |\n",
    "|  B, C, M, P                     |   3   |\n",
    "| F, H, V, W, Y                   |   4   |\n",
    "|  K                              |   5   |\n",
    "|  J, X                           |   8   |\n",
    "|  Q, Z                           |   10  |"
   ]
  },
  {
   "cell_type": "markdown",
   "metadata": {},
   "source": [
    "Definirimos una funcion que devuelva el puntaje de una palabra que se la pasa como parametro.  \n",
    "Para guardar los valores, crearemos un diccionario de python en donde las claves seran tuplas con las letras y los valores seran los puntajes:"
   ]
  },
  {
   "cell_type": "code",
   "execution_count": 17,
   "metadata": {},
   "outputs": [],
   "source": [
    "def puntaje(word):\n",
    "    puntajes = {\n",
    "        'A': 1, 'E': 1, 'I': 1, 'O': 1, 'U': 1, 'L': 1, 'N': 1, 'R': 1, 'S': 1, 'T': 1,\n",
    "        'D': 2, 'G': 2,\n",
    "        'B': 3, 'C': 3, 'M': 3, 'P': 3,\n",
    "        'F': 4, 'H': 4, 'V': 4, 'W': 4, 'Y': 4,\n",
    "        'K': 5,\n",
    "        'J': 8, 'X': 8,\n",
    "        'Q': 10, 'Z': 10\n",
    "    }\n",
    "\n",
    "    puntaje = 0\n",
    "\n",
    "    for letter in word:\n",
    "        puntaje += puntajes.get(letter.upper(),0)\n",
    "    \n",
    "    return puntaje"
   ]
  },
  {
   "cell_type": "code",
   "execution_count": 18,
   "metadata": {},
   "outputs": [
    {
     "name": "stdout",
     "output_type": "stream",
     "text": [
      "nancy otorga 10 puntos\n"
     ]
    }
   ],
   "source": [
    "word = input ('Ingrese una palabra para conocer su puntuacion: ')\n",
    "\n",
    "print(f'{word} otorga {puntaje(word)} puntos')"
   ]
  }
 ],
 "metadata": {
  "kernelspec": {
   "display_name": "venv",
   "language": "python",
   "name": "python3"
  },
  "language_info": {
   "codemirror_mode": {
    "name": "ipython",
    "version": 3
   },
   "file_extension": ".py",
   "mimetype": "text/x-python",
   "name": "python",
   "nbconvert_exporter": "python",
   "pygments_lexer": "ipython3",
   "version": "3.11.7"
  }
 },
 "nbformat": 4,
 "nbformat_minor": 2
}
