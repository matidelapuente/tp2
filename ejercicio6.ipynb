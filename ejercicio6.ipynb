{
 "cells": [
  {
   "cell_type": "markdown",
   "metadata": {},
   "source": [
    "# Ejercicio 6 \n",
    "\n",
    "Dada una frase y un string ingresados por teclado (en ese orden), genere una lista de\n",
    "palabras, y sobre ella, informe la cantidad de palabras en las que se encuentra el\n",
    "string. No distingir entre mayúsculas y minúsculas"
   ]
  },
  {
   "cell_type": "code",
   "execution_count": 3,
   "metadata": {},
   "outputs": [
    {
     "name": "stdout",
     "output_type": "stream",
     "text": [
      "La cantidad de veces que aparece la palabra \"TRISTES\" en la frase es 3\n"
     ]
    }
   ],
   "source": [
    "from funciones import clean_text\n",
    "\n",
    "phrase = input('Ingrese una frase: ')\n",
    "phrase = clean_text(phrase)\n",
    "str = input('Ingrese una palabra: ')\n",
    "\n",
    "words = [word.lower() for word in phrase.split()]\n",
    "count = 0\n",
    "for word in words:\n",
    "    if str.lower() == word:\n",
    "        count += 1\n",
    "\n",
    "print(f'La cantidad de veces que aparece la palabra \"{str}\" en la frase es {count}')"
   ]
  }
 ],
 "metadata": {
  "kernelspec": {
   "display_name": "venv",
   "language": "python",
   "name": "python3"
  },
  "language_info": {
   "codemirror_mode": {
    "name": "ipython",
    "version": 3
   },
   "file_extension": ".py",
   "mimetype": "text/x-python",
   "name": "python",
   "nbconvert_exporter": "python",
   "pygments_lexer": "ipython3",
   "version": "3.11.7"
  }
 },
 "nbformat": 4,
 "nbformat_minor": 2
}
