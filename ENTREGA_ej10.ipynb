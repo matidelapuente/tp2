{
 "cells": [
  {
   "cell_type": "markdown",
   "metadata": {},
   "source": [
    "# Ejercicio 10\n",
    "Un club de hockey posee las estadísticas de todxs sus jugadorxs de la última\n",
    "temporada jugada del torneo de hockey mixto. Poseen una lista con los nombres, otra\n",
    "Entrega 2\n",
    "Pautas\n",
    "con los goles a favor, otra con los goles evitados y la última con las asistencias\n",
    "realizadas. El club está por otorgar los premios de cierre de temporada y necesita:\n",
    "1. Generar una estructura todas las estadísticas asociadas a cada jugador o\n",
    "jugadora.\n",
    "2. Conocer el nombre y la cantidad de goles del goleador o goleadora.\n",
    "3. Conocer el nombre del jugador o jugadora más influyente, esto se consigue\n",
    "sumando goles a favor, goles evitados y cantidad de asistencias. La particularidad\n",
    "es que los goles a favor, evitados y las asistencias NO valen lo mismo (es un\n",
    "promedio ponderado):  \n",
    "\n",
    "\n",
    "    |                | valor | \n",
    "    |:--------------:|:-----:|\n",
    "    |goles a favor   |1,5    |\n",
    "    |goles en contra | 1,25  |\n",
    "    |asistencias     |  1    | \n",
    "\n",
    "\n",
    "4. Conocer el promedio de goles por partido del equipo en general. Dato: Se jugaron\n",
    "25 partidos en la temporada.\n",
    "5. Conocer el promedio de goles por partido del goleador o goleadora. Dato: Se\n",
    "jugaron 25 partidos en la temporada.  \n",
    "\n",
    "**Nota:**  \n",
    " - Las 4 estructuras están ordenadas de forma que los elementos en la misma\n",
    "posición corresponden a un mismo jugador o jugadora.\n",
    " - Realizar funciones con cada ítem.  \n",
    " \n",
    " Código:\n"
   ]
  },
  {
   "cell_type": "code",
   "execution_count": 1,
   "metadata": {},
   "outputs": [],
   "source": [
    "names = \"\"\" Agustin, Yanina, Andrés, Ariadna, Bautista, CAROLINA,\n",
    "CESAR, David, Diego, Dolores, DYLAN, ELIANA, Emanuel, Fabián, Noelia,\n",
    "Francsica', FEDERICO, Fernanda, GONZALO, Nancy \"\"\"\n",
    "goals = [0, 10, 4, 0, 5, 14, 0, 0, 7, 2, 1, 1, 1, 5, 6, 1, 1, 2, 0,\n",
    "11]\n",
    "goals_avoided = [0, 2, 0, 0, 5, 2, 0, 0, 1, 2, 0, 5, 5, 0, 1, 0, 2,\n",
    "3, 0, 0]\n",
    "assists = [0, 5, 1, 0, 5, 2, 0, 0, 1, 2, 1, 5, 5, 0, 1, 0, 2, 3, 1,\n",
    "0]"
   ]
  },
  {
   "cell_type": "markdown",
   "metadata": {},
   "source": [
    "## Solución\n",
    "En primer lugar, generaremos una lista con los nombres de los jugadores:"
   ]
  },
  {
   "cell_type": "code",
   "execution_count": 2,
   "metadata": {},
   "outputs": [
    {
     "name": "stdout",
     "output_type": "stream",
     "text": [
      "['AGUSTIN', 'YANINA', 'ANDRÉS', 'ARIADNA', 'BAUTISTA', 'CAROLINA', 'CESAR', 'DAVID', 'DIEGO', 'DOLORES', 'DYLAN', 'ELIANA', 'EMANUEL', 'FABIÁN', 'NOELIA', \"FRANCSICA'\", 'FEDERICO', 'FERNANDA', 'GONZALO', 'NANCY']\n"
     ]
    }
   ],
   "source": [
    "names = [name.strip().upper() for name in names.split(',')]\n",
    "print(names)"
   ]
  },
  {
   "cell_type": "markdown",
   "metadata": {},
   "source": [
    "Para resolver el inciso 1, generaremos la estructura principal para almacenar todos los datos del problema utilizando la funcion zip: "
   ]
  },
  {
   "cell_type": "code",
   "execution_count": 3,
   "metadata": {},
   "outputs": [],
   "source": [
    "try:\n",
    "    data = zip(names, goals, goals_avoided, assists, strict=True)\n",
    "except: \n",
    "    print(\"The length of the iterables don't mach. Please, check.\")\n",
    "\n",
    "data = list(data)"
   ]
  },
  {
   "cell_type": "markdown",
   "metadata": {},
   "source": [
    "Para resolver los demas incisos, importamos el modulo \"temporada\" donde se definieron varias funciones que seran de utilidad:"
   ]
  },
  {
   "cell_type": "code",
   "execution_count": 4,
   "metadata": {},
   "outputs": [],
   "source": [
    "import temporada"
   ]
  },
  {
   "cell_type": "markdown",
   "metadata": {},
   "source": [
    "Para el inciso 2, usaremos la funcion <code>goleador</code> que nos devolvera el nombre del jugador que mas goles convirtio en toda la temporada:"
   ]
  },
  {
   "cell_type": "code",
   "execution_count": 5,
   "metadata": {},
   "outputs": [
    {
     "name": "stdout",
     "output_type": "stream",
     "text": [
      "El goleador de la temporada es CAROLINA y convirtio 14 goles.\n"
     ]
    }
   ],
   "source": [
    "top_scorer = temporada.goleador(data)\n",
    "\n",
    "print(f'El goleador de la temporada es {top_scorer[0]} y convirtio {top_scorer[1]} goles.')"
   ]
  },
  {
   "cell_type": "markdown",
   "metadata": {},
   "source": [
    "Para el inciso 3, usaremos la función <code>influyente</code> que se encuentra en el modulo ya importado:"
   ]
  },
  {
   "cell_type": "code",
   "execution_count": 6,
   "metadata": {},
   "outputs": [
    {
     "name": "stdout",
     "output_type": "stream",
     "text": [
      "El jugador más influyente de la temporada es CAROLINA.\n"
     ]
    }
   ],
   "source": [
    "influential = temporada.influyente(data)\n",
    "\n",
    "print(f'El jugador más influyente de la temporada es {influential[0]}.')"
   ]
  },
  {
   "cell_type": "markdown",
   "metadata": {},
   "source": [
    "Para el inciso 4, usamos la funcion <code>map</code> en conjunto con una función lambda para iterar sobre la estructura de datos y generar una nueva estructura iterable que contenga el promedio de goles por partido de cada jugador, los cuale luego sumaremos para calcular el promedio de goles por partido del equipo:"
   ]
  },
  {
   "cell_type": "code",
   "execution_count": 7,
   "metadata": {},
   "outputs": [
    {
     "name": "stdout",
     "output_type": "stream",
     "text": [
      "El promedio de goles por partido del equipo es de 2.84\n"
     ]
    }
   ],
   "source": [
    "prom_goles_x_partido = map(lambda player: player[1]/25, data)\n",
    "\n",
    "prom_goles_x_partido = list(prom_goles_x_partido)\n",
    "\n",
    "print(f'El promedio de goles por partido del equipo es de {sum(prom_goles_x_partido):.2f}')"
   ]
  },
  {
   "cell_type": "markdown",
   "metadata": {},
   "source": [
    "Finalmente, para recuperar el promedio de goles por partido del goleador de la temporada, primero buscaremos el indice de este jugador en la estructura de datos principal y luego lo utilizaremos para recuperar el promedio de goles por partido:"
   ]
  },
  {
   "cell_type": "code",
   "execution_count": 11,
   "metadata": {},
   "outputs": [
    {
     "name": "stdout",
     "output_type": "stream",
     "text": [
      "El promedio de goles por partido del/a goleador/a de la temporada es de       0.56\n"
     ]
    }
   ],
   "source": [
    "indice_top_scorer = data.index(top_scorer)\n",
    "\n",
    "print(f'El promedio de goles por partido del/a goleador/a de la temporada es de \\\n",
    "      {prom_goles_x_partido[indice_top_scorer]}')"
   ]
  }
 ],
 "metadata": {
  "kernelspec": {
   "display_name": "venv",
   "language": "python",
   "name": "python3"
  },
  "language_info": {
   "codemirror_mode": {
    "name": "ipython",
    "version": 3
   },
   "file_extension": ".py",
   "mimetype": "text/x-python",
   "name": "python",
   "nbconvert_exporter": "python",
   "pygments_lexer": "ipython3",
   "version": "3.11.7"
  }
 },
 "nbformat": 4,
 "nbformat_minor": 2
}
